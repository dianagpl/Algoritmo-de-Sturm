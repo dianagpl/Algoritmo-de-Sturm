{
  "nbformat": 4,
  "nbformat_minor": 0,
  "metadata": {
    "colab": {
      "name": "integración por lagrange.ipynb",
      "provenance": []
    },
    "kernelspec": {
      "name": "python3",
      "display_name": "Python 3"
    },
    "language_info": {
      "name": "python"
    }
  },
  "cells": [
    {
      "cell_type": "code",
      "metadata": {
        "id": "sKKZJs6tuiDE"
      },
      "source": [
        "import numpy as np\n",
        "import math as mt\n",
        "import matplotlib.pyplot as plt"
      ],
      "execution_count": null,
      "outputs": []
    },
    {
      "cell_type": "code",
      "metadata": {
        "id": "U_BV_Id3ud23"
      },
      "source": [
        "def normal_den(x):\n",
        "  return (1/mt.sqrt(2*mt.pi))*(mt.exp(-.5*(x**2)))"
      ],
      "execution_count": null,
      "outputs": []
    },
    {
      "cell_type": "markdown",
      "metadata": {
        "id": "ewhWnSYp00eR"
      },
      "source": [
        "Agrega punto medio, asi se tienen tres puntos para x_1, x_2,x_3\n",
        "Respectivamente se tiene f(x_1),f(x_2),f(x_3)\n"
      ]
    },
    {
      "cell_type": "markdown",
      "metadata": {
        "id": "fAYtQXR21Rh_"
      },
      "source": [
        "Interpolar los puntos x_q, f(x_q)\n"
      ]
    },
    {
      "cell_type": "code",
      "metadata": {
        "id": "5dtfUef-TTcT"
      },
      "source": [
        "def lagrange_basis(x, idx, x_at):\n",
        "  res   = 1\n",
        "  for i,j in enumerate(x):\n",
        "    if idx != i:\n",
        "      res *= (x_at - j)/(x[idx] - j)\n",
        "  return res\n",
        "\n",
        "def lagrange(x, y, x_at):\n",
        "  px = 0\n",
        "  p=[]\n",
        "  for i,j in enumerate(y):\n",
        "    px += j*lagrange_basis(x, i, x_at)\n",
        "    \n",
        "  return px\n",
        "\t"
      ],
      "execution_count": null,
      "outputs": []
    },
    {
      "cell_type": "code",
      "metadata": {
        "id": "brbxy9v-Nsmm"
      },
      "source": [
        "def parte(v1,v2):\n",
        "  P=[]\n",
        "  if v1<v2:\n",
        "   for i in range(v1,v2):\n",
        "    P.append([i,i+.25,i+.5])\n",
        "    P.append([i+.5,i+.75,i+1])\n",
        "  else:\n",
        "    for i in range(v2,v1):\n",
        "      P.append([i,i+.25,i+.5])\n",
        "      P.append([i+.5,i+.75,i+1])\n",
        "  return P"
      ],
      "execution_count": null,
      "outputs": []
    },
    {
      "cell_type": "markdown",
      "metadata": {
        "id": "DW_bDtgTEpGd"
      },
      "source": [
        "\n",
        "*   $P(x)=x^2A+xB+C=px $\n",
        "*   $P(0)=C=px_0$\n",
        "*   $P(1)= A+B+C=px_1$\n",
        "*   $P(-1)= A-B+C=px_{-1}$\n",
        "*   $P(1)+P(-1)=A+B+C+A-B+C=2A+2C$\n",
        "  * $A=(P(1)+P(-1))*.5-C$\n",
        "  * $B=P(1)-A-C$\n",
        "  * $C=P(0)$\n",
        "\n",
        "\n"
      ]
    },
    {
      "cell_type": "code",
      "metadata": {
        "id": "Iz3jKGjDAu1k"
      },
      "source": [
        "def coeficientes(u,v,f=lagrange):\n",
        "  #u= [x_1,x_2,x_3], v=[x_1, x_2,x_3]\n",
        "  c=lagrange(u,v,0)\n",
        "  a=(lagrange(u,v,1)+ lagrange(u,v,(-1)))/2-c\n",
        "  b=lagrange(u,v,1)-a-c\n",
        "  return a,b,c\n",
        "\n",
        "\n",
        "def calcula_integral(v1,v2,f=normal_den):\n",
        "  x=[]\n",
        "  k=0\n",
        "  P=parte(v1,v2)\n",
        "  for i in P:\n",
        "    x=i\n",
        "    M=max(x)\n",
        "    m=min(x)\n",
        "    y=[f(i) for i in x]\n",
        "    A,B,C=coeficientes(x,y)\n",
        "    k  +=  (A * ( (M**3 - m**3)/3 )) +  (B*( (M**2 - m**2)/2 )) + C*(M-m)\n",
        "  return k,P"
      ],
      "execution_count": null,
      "outputs": []
    },
    {
      "cell_type": "code",
      "metadata": {
        "colab": {
          "base_uri": "https://localhost:8080/"
        },
        "id": "bQwRNUmWByQF",
        "outputId": "1766d405-c312-423b-8056-d4713ffb6d1d"
      },
      "source": [
        "value,points=calcula_integral(-1,2)\n",
        "print(value)"
      ],
      "execution_count": null,
      "outputs": [
        {
          "output_type": "stream",
          "name": "stdout",
          "text": [
            "0.8186028506488197\n"
          ]
        }
      ]
    },
    {
      "cell_type": "code",
      "metadata": {
        "id": "GKnnrVbP4Hiw"
      },
      "source": [
        "\n",
        "grid = [-1+.1*i for i in range(81)]\n",
        "y_eval=[lagrange(x_coord,y_coord, i) for i in grid]\n",
        "\n",
        "\n"
      ],
      "execution_count": null,
      "outputs": []
    },
    {
      "cell_type": "code",
      "metadata": {
        "colab": {
          "base_uri": "https://localhost:8080/",
          "height": 295
        },
        "id": "qMRN_v5HA70t",
        "outputId": "3465424b-386f-49bc-e1ae-4968980345bc"
      },
      "source": [
        "plt.plot(grid,[normal_den(i)for i in grid])\n",
        "for i in points:\n",
        "  x_coord=i\n",
        "  x_aux=[min(x_coord)-.5+.1*i for i in range(21)]\n",
        "  y_coord=[normal_den(i) for i in x_coord]\n",
        "  plt.scatter(x_coord,y_coord)\n",
        "  y_eval=[lagrange(x_coord,y_coord, i) for i in grid]\n",
        "  plt.plot(x_aux,[lagrange(x_coord,y_coord, i) for i in x_aux])\n",
        "\n",
        "plt.xlabel('x')\n",
        "plt.ylabel('y')\n",
        "plt.title('Interpolación')\n",
        "plt.show()"
      ],
      "execution_count": null,
      "outputs": [
        {
          "output_type": "display_data",
          "data": {
            "image/png": "[encoded data removed]",
            "text/plain": [
              "<Figure size 432x288 with 1 Axes>"
            ]
          },
          "metadata": {
            "needs_background": "light"
          }
        }
      ]
    }
  ]
}